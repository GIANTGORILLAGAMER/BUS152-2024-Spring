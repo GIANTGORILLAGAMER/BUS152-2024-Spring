{
 "cells": [
  {
   "cell_type": "markdown",
   "id": "b2c350d1-5d35-4868-ac7b-23b06f1fa791",
   "metadata": {},
   "source": [
    "# Exercise 1.0<br>Python:  Variable Types"
   ]
  },
  {
   "cell_type": "markdown",
   "id": "7306d4a2-5276-49a9-a647-b312d4fa14b3",
   "metadata": {},
   "source": [
    "## BUS152 - Spring 2024 <br> Brian Brady"
   ]
  },
  {
   "cell_type": "markdown",
   "id": "ab3c10ac-3262-49eb-9f23-91233696993a",
   "metadata": {},
   "source": [
    "1. Use the `print()` function on a custom greeting (e.g. Good morning)."
   ]
  },
  {
   "cell_type": "code",
   "execution_count": null,
   "id": "888c00b6-754a-4ba7-9bb1-2c21b6e1c504",
   "metadata": {
    "tags": []
   },
   "outputs": [],
   "source": []
  },
  {
   "cell_type": "markdown",
   "id": "629e5505-fc79-4593-b8ff-1f10407885b4",
   "metadata": {},
   "source": [
    "2. Now _assign_ that same greeting message to a variable named \"greeting\"."
   ]
  },
  {
   "cell_type": "code",
   "execution_count": null,
   "id": "ad0b032e-a9b5-4ca2-bfb4-c020f5b4f554",
   "metadata": {
    "tags": []
   },
   "outputs": [],
   "source": []
  },
  {
   "cell_type": "markdown",
   "id": "b2cbd89c-1448-4f2e-95d7-43358206c7ef",
   "metadata": {},
   "source": [
    "3. Create another variable with your name assigned to it, and satisfy the following:\n",
    " - use the `f-string` method to create a sentence that combines your greeting with your name\n",
    " - separated the greeting and your name by a comma\n",
    " - end the statement with the appropriate punctuation"
   ]
  },
  {
   "cell_type": "code",
   "execution_count": null,
   "id": "3fb79b2e-5f6c-4053-aa55-319aa4e4594a",
   "metadata": {
    "tags": []
   },
   "outputs": [],
   "source": []
  },
  {
   "cell_type": "markdown",
   "id": "26c3962e-45a1-4bde-8273-58d05dd48643",
   "metadata": {
    "tags": []
   },
   "source": [
    "4. Create two variables, assigning one a numeric _float_ and the other a numeric _integer_, and the print the data type of the integer to the console."
   ]
  },
  {
   "cell_type": "code",
   "execution_count": null,
   "id": "3250616b-936b-4e65-9b8a-37f4af2210b0",
   "metadata": {
    "tags": []
   },
   "outputs": [],
   "source": []
  },
  {
   "cell_type": "markdown",
   "id": "7058a64f-fe2d-479c-bce3-857b1580db46",
   "metadata": {},
   "source": [
    "5.  Compare your \"greeting\" string created above to one of the numeric variables you just created in step 4, and prove inequality with a boolean."
   ]
  },
  {
   "cell_type": "code",
   "execution_count": null,
   "id": "f382499f-4fc3-4aae-9608-c3219cfa3694",
   "metadata": {
    "tags": []
   },
   "outputs": [],
   "source": []
  }
 ],
 "metadata": {
  "kernelspec": {
   "display_name": "Python 3 (ipykernel)",
   "language": "python",
   "name": "python3"
  },
  "language_info": {
   "codemirror_mode": {
    "name": "ipython",
    "version": 3
   },
   "file_extension": ".py",
   "mimetype": "text/x-python",
   "name": "python",
   "nbconvert_exporter": "python",
   "pygments_lexer": "ipython3",
   "version": "3.11.5"
  }
 },
 "nbformat": 4,
 "nbformat_minor": 5
}
